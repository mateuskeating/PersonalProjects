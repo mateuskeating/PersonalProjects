{
 "cells": [
  {
   "cell_type": "code",
   "execution_count": 3,
   "id": "45037f88",
   "metadata": {},
   "outputs": [
    {
     "name": "stdout",
     "output_type": "stream",
     "text": [
      "Weighted X + Y Avg: 25.212663080529023 1712.710076986415\n",
      "m: 67.07864582046528\n",
      "c: 21.47878001688764\n",
      "Standard Deviation in Y: 70.38298668140268\n",
      "Slope Uncertainty: 4.963562325215762\n",
      "Uncertainty for C: 17499.426169512033\n"
     ]
    },
    {
     "data": {
      "image/png": "[encoded data removed]",
      "text/plain": [
       "<Figure size 640x480 with 2 Axes>"
      ]
     },
     "metadata": {},
     "output_type": "display_data"
    }
   ],
   "source": [
    "import numpy as np\n",
    "import matplotlib.pyplot as plt\n",
    "\n",
    "y, x, unc=np.genfromtxt('exampledata.csv', delimiter=',',skip_header=1, unpack=True,)\n",
    "xavg= np.mean(x)\n",
    "yavg= np.mean(y)\n",
    "fig=plt.figure()\n",
    "xwsquaredlist=[]\n",
    "productlist=[]\n",
    "weightlist=[]\n",
    "yplist=[]\n",
    "xplist=[]\n",
    "\n",
    "for n in range(len(x)):\n",
    "    w=1/unc[n]**2\n",
    "    weightlist.append(w)\n",
    "    yproduct= y[n]*weightlist[n]\n",
    "    yplist.append(yproduct)\n",
    "    xproduct=x[n]*weightlist[n]\n",
    "    xplist.append(xproduct)\n",
    "wsum=np.sum(weightlist)\n",
    "ypsum=np.sum(yplist)\n",
    "ywavg=ypsum/wsum\n",
    "xpsum=np.sum(xplist)\n",
    "xwavg=xpsum/wsum\n",
    "print(\"Weighted X + Y Avg:\",xwavg,ywavg)\n",
    "\n",
    "for n in range(len(x)):\n",
    "    xs= x[n]-xwavg #adding values to find m\n",
    "    ys=y[n]-ywavg\n",
    "    pr=weightlist[n]*xs*ys\n",
    "    productlist.append(pr)\n",
    "    xwsquaredlist.append((xs**2)*weightlist[n])\n",
    "    \n",
    "prsum=np.sum(productlist) #sum of the x and y minus xavg and yavg\n",
    "xwsq=np.sum(xwsquaredlist)\n",
    "m=prsum/xwsq\n",
    "c=ywavg-m*xwavg\n",
    "print(\"m:\",m)\n",
    "print(\"c:\",c)\n",
    "stdprlist=[]\n",
    "\n",
    "for n in range(len(x)):\n",
    "    stdpr=weightlist[n]*(y[n]-m*(x[n])-c)**2\n",
    "    stdprlist.append(stdpr)\n",
    "stdsum=np.sum(stdprlist)\n",
    "stdY=np.sqrt(stdsum/18)\n",
    "print(\"Standard Deviation in Y:\",stdY)\n",
    "ytlist=[]\n",
    "xtlist=[]\n",
    "reslist=[]\n",
    "\n",
    "for n in range(len(x)):\n",
    "    yr=m*x[n]+c\n",
    "    xtlist.append(x[n])\n",
    "    ytlist.append(yr)\n",
    "uncm= np.sqrt((stdY**2)/xwsq)\n",
    "uncc= stdY**2*((1/(np.sum(weightlist)))+(xwavg**2/xwsq))\n",
    "print(\"Slope Uncertainty:\", uncm)\n",
    "print(\"Uncertainty for C:\", uncc)\n",
    "\n",
    "for n in range(len(x)):\n",
    "    res=y[n]-ytlist[n]\n",
    "    reslist.append(res)\n",
    "    \n",
    "plt.subplot(2,1,1)\n",
    "plt.plot(x,y,\"ko\", markersize=1)\n",
    "plt.errorbar(x,y, yerr=unc, capsize=2, fmt=\"ro\", markersize=2)\n",
    "plt.plot(xtlist, ytlist, \"r-\")\n",
    "plt.xlabel(\"x\")\n",
    "plt.ylabel(\"y\")\n",
    "plt.subplot(2,1,2)\n",
    "plt.plot(x, reslist, \"ko\")\n",
    "plt.plot(x,np.zeros(len(x)), \"-r\")\n",
    "plt.ylabel(\"Residuals\")\n",
    "plt.xlabel(\"x\")\n",
    "fig.subplots_adjust(hspace=0)\n"
   ]
  },
  {
   "cell_type": "markdown",
   "id": "11f1adb2",
   "metadata": {},
   "source": []
  },
  {
   "cell_type": "code",
   "execution_count": null,
   "id": "c8772edd",
   "metadata": {},
   "outputs": [],
   "source": []
  },
  {
   "cell_type": "code",
   "execution_count": null,
   "id": "934d2f61",
   "metadata": {},
   "outputs": [],
   "source": []
  },
  {
   "cell_type": "code",
   "execution_count": null,
   "id": "d24df6f0",
   "metadata": {},
   "outputs": [],
   "source": []
  },
  {
   "cell_type": "code",
   "execution_count": null,
   "id": "250d0485",
   "metadata": {},
   "outputs": [],
   "source": []
  },
  {
   "cell_type": "code",
   "execution_count": null,
   "id": "a451c91f",
   "metadata": {},
   "outputs": [],
   "source": []
  }
 ],
 "metadata": {
  "kernelspec": {
   "display_name": "Python 3 (ipykernel)",
   "language": "python",
   "name": "python3"
  },
  "language_info": {
   "codemirror_mode": {
    "name": "ipython",
    "version": 3
   },
   "file_extension": ".py",
   "mimetype": "text/x-python",
   "name": "python",
   "nbconvert_exporter": "python",
   "pygments_lexer": "ipython3",
   "version": "3.10.9"
  }
 },
 "nbformat": 4,
 "nbformat_minor": 5
}
